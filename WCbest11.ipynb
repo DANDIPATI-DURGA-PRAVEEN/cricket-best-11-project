{
  "metadata": {
    "kernelspec": {
      "name": "python",
      "display_name": "Python (Pyodide)",
      "language": "python"
    },
    "language_info": {
      "codemirror_mode": {
        "name": "python",
        "version": 3
      },
      "file_extension": ".py",
      "mimetype": "text/x-python",
      "name": "python",
      "nbconvert_exporter": "python",
      "pygments_lexer": "ipython3",
      "version": "3.8"
    }
  },
  "nbformat_minor": 4,
  "nbformat": 4,
  "cells": [
    {
      "cell_type": "code",
      "source": "import pandas as pd\nimport json",
      "metadata": {
        "trusted": true
      },
      "outputs": [],
      "execution_count": 1
    },
    {
      "cell_type": "code",
      "source": "with open(\"t20_wc_match_results.json\") as f:\n    data = json.load(f)\ndf_match = pd.DataFrame(data[0][\"matchSummary\"])\ndf_match.head()",
      "metadata": {
        "trusted": true
      },
      "outputs": [
        {
          "execution_count": 2,
          "output_type": "execute_result",
          "data": {
            "text/plain": "         team1        team2       winner     margin   ground     matchDate  \\\n0      Namibia    Sri Lanka      Namibia    55 runs  Geelong  Oct 16, 2022   \n1  Netherlands       U.A.E.  Netherlands  3 wickets  Geelong  Oct 16, 2022   \n2     Scotland  West Indies     Scotland    42 runs   Hobart  Oct 17, 2022   \n3      Ireland     Zimbabwe     Zimbabwe    31 runs   Hobart  Oct 17, 2022   \n4      Namibia  Netherlands  Netherlands  5 wickets  Geelong  Oct 18, 2022   \n\n     scorecard  \n0  T20I # 1823  \n1  T20I # 1825  \n2  T20I # 1826  \n3  T20I # 1828  \n4  T20I # 1830  ",
            "text/html": "<div>\n<style scoped>\n    .dataframe tbody tr th:only-of-type {\n        vertical-align: middle;\n    }\n\n    .dataframe tbody tr th {\n        vertical-align: top;\n    }\n\n    .dataframe thead th {\n        text-align: right;\n    }\n</style>\n<table border=\"1\" class=\"dataframe\">\n  <thead>\n    <tr style=\"text-align: right;\">\n      <th></th>\n      <th>team1</th>\n      <th>team2</th>\n      <th>winner</th>\n      <th>margin</th>\n      <th>ground</th>\n      <th>matchDate</th>\n      <th>scorecard</th>\n    </tr>\n  </thead>\n  <tbody>\n    <tr>\n      <th>0</th>\n      <td>Namibia</td>\n      <td>Sri Lanka</td>\n      <td>Namibia</td>\n      <td>55 runs</td>\n      <td>Geelong</td>\n      <td>Oct 16, 2022</td>\n      <td>T20I # 1823</td>\n    </tr>\n    <tr>\n      <th>1</th>\n      <td>Netherlands</td>\n      <td>U.A.E.</td>\n      <td>Netherlands</td>\n      <td>3 wickets</td>\n      <td>Geelong</td>\n      <td>Oct 16, 2022</td>\n      <td>T20I # 1825</td>\n    </tr>\n    <tr>\n      <th>2</th>\n      <td>Scotland</td>\n      <td>West Indies</td>\n      <td>Scotland</td>\n      <td>42 runs</td>\n      <td>Hobart</td>\n      <td>Oct 17, 2022</td>\n      <td>T20I # 1826</td>\n    </tr>\n    <tr>\n      <th>3</th>\n      <td>Ireland</td>\n      <td>Zimbabwe</td>\n      <td>Zimbabwe</td>\n      <td>31 runs</td>\n      <td>Hobart</td>\n      <td>Oct 17, 2022</td>\n      <td>T20I # 1828</td>\n    </tr>\n    <tr>\n      <th>4</th>\n      <td>Namibia</td>\n      <td>Netherlands</td>\n      <td>Netherlands</td>\n      <td>5 wickets</td>\n      <td>Geelong</td>\n      <td>Oct 18, 2022</td>\n      <td>T20I # 1830</td>\n    </tr>\n  </tbody>\n</table>\n</div>"
          },
          "metadata": {}
        }
      ],
      "execution_count": 2
    },
    {
      "cell_type": "code",
      "source": "df_match.shape",
      "metadata": {
        "trusted": true
      },
      "outputs": [
        {
          "execution_count": 3,
          "output_type": "execute_result",
          "data": {
            "text/plain": "(45, 7)"
          },
          "metadata": {}
        }
      ],
      "execution_count": 3
    },
    {
      "cell_type": "code",
      "source": "df_match.rename({\"scorecard\":\"match_id\"},axis = 1,inplace = True)\ndf_match.head()",
      "metadata": {
        "trusted": true
      },
      "outputs": [
        {
          "execution_count": 4,
          "output_type": "execute_result",
          "data": {
            "text/plain": "         team1        team2       winner     margin   ground     matchDate  \\\n0      Namibia    Sri Lanka      Namibia    55 runs  Geelong  Oct 16, 2022   \n1  Netherlands       U.A.E.  Netherlands  3 wickets  Geelong  Oct 16, 2022   \n2     Scotland  West Indies     Scotland    42 runs   Hobart  Oct 17, 2022   \n3      Ireland     Zimbabwe     Zimbabwe    31 runs   Hobart  Oct 17, 2022   \n4      Namibia  Netherlands  Netherlands  5 wickets  Geelong  Oct 18, 2022   \n\n      match_id  \n0  T20I # 1823  \n1  T20I # 1825  \n2  T20I # 1826  \n3  T20I # 1828  \n4  T20I # 1830  ",
            "text/html": "<div>\n<style scoped>\n    .dataframe tbody tr th:only-of-type {\n        vertical-align: middle;\n    }\n\n    .dataframe tbody tr th {\n        vertical-align: top;\n    }\n\n    .dataframe thead th {\n        text-align: right;\n    }\n</style>\n<table border=\"1\" class=\"dataframe\">\n  <thead>\n    <tr style=\"text-align: right;\">\n      <th></th>\n      <th>team1</th>\n      <th>team2</th>\n      <th>winner</th>\n      <th>margin</th>\n      <th>ground</th>\n      <th>matchDate</th>\n      <th>match_id</th>\n    </tr>\n  </thead>\n  <tbody>\n    <tr>\n      <th>0</th>\n      <td>Namibia</td>\n      <td>Sri Lanka</td>\n      <td>Namibia</td>\n      <td>55 runs</td>\n      <td>Geelong</td>\n      <td>Oct 16, 2022</td>\n      <td>T20I # 1823</td>\n    </tr>\n    <tr>\n      <th>1</th>\n      <td>Netherlands</td>\n      <td>U.A.E.</td>\n      <td>Netherlands</td>\n      <td>3 wickets</td>\n      <td>Geelong</td>\n      <td>Oct 16, 2022</td>\n      <td>T20I # 1825</td>\n    </tr>\n    <tr>\n      <th>2</th>\n      <td>Scotland</td>\n      <td>West Indies</td>\n      <td>Scotland</td>\n      <td>42 runs</td>\n      <td>Hobart</td>\n      <td>Oct 17, 2022</td>\n      <td>T20I # 1826</td>\n    </tr>\n    <tr>\n      <th>3</th>\n      <td>Ireland</td>\n      <td>Zimbabwe</td>\n      <td>Zimbabwe</td>\n      <td>31 runs</td>\n      <td>Hobart</td>\n      <td>Oct 17, 2022</td>\n      <td>T20I # 1828</td>\n    </tr>\n    <tr>\n      <th>4</th>\n      <td>Namibia</td>\n      <td>Netherlands</td>\n      <td>Netherlands</td>\n      <td>5 wickets</td>\n      <td>Geelong</td>\n      <td>Oct 18, 2022</td>\n      <td>T20I # 1830</td>\n    </tr>\n  </tbody>\n</table>\n</div>"
          },
          "metadata": {}
        }
      ],
      "execution_count": 4
    },
    {
      "cell_type": "code",
      "source": "match_ids_dict = {}\nfor index, row in df_match.iterrows():\n    key1 = row[\"team1\"]+\" Vs \"+row[\"team2\"]\n    key2 = row[\"team2\"]+\" Vs \"+row[\"team1\"]\n    match_ids_dict[key1]=row[\"match_id\"]\n    match_ids_dict[key2]=row[\"match_id\"]\nmatch_ids_dict    ",
      "metadata": {
        "trusted": true
      },
      "outputs": [
        {
          "execution_count": 13,
          "output_type": "execute_result",
          "data": {
            "text/plain": "{'Namibia Vs Sri Lanka': 'T20I # 1823',\n 'Sri Lanka Vs Namibia': 'T20I # 1823',\n 'Netherlands Vs U.A.E.': 'T20I # 1825',\n 'U.A.E. Vs Netherlands': 'T20I # 1825',\n 'Scotland Vs West Indies': 'T20I # 1826',\n 'West Indies Vs Scotland': 'T20I # 1826',\n 'Ireland Vs Zimbabwe': 'T20I # 1828',\n 'Zimbabwe Vs Ireland': 'T20I # 1828',\n 'Namibia Vs Netherlands': 'T20I # 1830',\n 'Netherlands Vs Namibia': 'T20I # 1830',\n 'Sri Lanka Vs U.A.E.': 'T20I # 1832',\n 'U.A.E. Vs Sri Lanka': 'T20I # 1832',\n 'Ireland Vs Scotland': 'T20I # 1833',\n 'Scotland Vs Ireland': 'T20I # 1833',\n 'West Indies Vs Zimbabwe': 'T20I # 1834',\n 'Zimbabwe Vs West Indies': 'T20I # 1834',\n 'Netherlands Vs Sri Lanka': 'T20I # 1835',\n 'Sri Lanka Vs Netherlands': 'T20I # 1835',\n 'Namibia Vs U.A.E.': 'T20I # 1836',\n 'U.A.E. Vs Namibia': 'T20I # 1836',\n 'Ireland Vs West Indies': 'T20I # 1837',\n 'West Indies Vs Ireland': 'T20I # 1837',\n 'Scotland Vs Zimbabwe': 'T20I # 1838',\n 'Zimbabwe Vs Scotland': 'T20I # 1838',\n 'Australia Vs New Zealand': 'T20I # 1839',\n 'New Zealand Vs Australia': 'T20I # 1839',\n 'Afghanistan Vs England': 'T20I # 1840',\n 'England Vs Afghanistan': 'T20I # 1840',\n 'Ireland Vs Sri Lanka': 'T20I # 1841',\n 'Sri Lanka Vs Ireland': 'T20I # 1841',\n 'India Vs Pakistan': 'T20I # 1842',\n 'Pakistan Vs India': 'T20I # 1842',\n 'Bangladesh Vs Netherlands': 'T20I # 1843',\n 'Netherlands Vs Bangladesh': 'T20I # 1843',\n 'South Africa Vs Zimbabwe': 'T20I # 1844',\n 'Zimbabwe Vs South Africa': 'T20I # 1844',\n 'Australia Vs Sri Lanka': 'T20I # 1845',\n 'Sri Lanka Vs Australia': 'T20I # 1845',\n 'England Vs Ireland': 'T20I # 1846',\n 'Ireland Vs England': 'T20I # 1846',\n 'Afghanistan Vs New Zealand': 'T20I # 1846a',\n 'New Zealand Vs Afghanistan': 'T20I # 1846a',\n 'Bangladesh Vs South Africa': 'T20I # 1847',\n 'South Africa Vs Bangladesh': 'T20I # 1847',\n 'India Vs Netherlands': 'T20I # 1848',\n 'Netherlands Vs India': 'T20I # 1848',\n 'Pakistan Vs Zimbabwe': 'T20I # 1849',\n 'Zimbabwe Vs Pakistan': 'T20I # 1849',\n 'Afghanistan Vs Ireland': 'T20I # 1849a',\n 'Ireland Vs Afghanistan': 'T20I # 1849a',\n 'Australia Vs England': 'T20I # 1849b',\n 'England Vs Australia': 'T20I # 1849b',\n 'New Zealand Vs Sri Lanka': 'T20I # 1850',\n 'Sri Lanka Vs New Zealand': 'T20I # 1850',\n 'Bangladesh Vs Zimbabwe': 'T20I # 1851',\n 'Zimbabwe Vs Bangladesh': 'T20I # 1851',\n 'Netherlands Vs Pakistan': 'T20I # 1852',\n 'Pakistan Vs Netherlands': 'T20I # 1852',\n 'India Vs South Africa': 'T20I # 1853',\n 'South Africa Vs India': 'T20I # 1853',\n 'Australia Vs Ireland': 'T20I # 1855',\n 'Ireland Vs Australia': 'T20I # 1855',\n 'Afghanistan Vs Sri Lanka': 'T20I # 1856',\n 'Sri Lanka Vs Afghanistan': 'T20I # 1856',\n 'England Vs New Zealand': 'T20I # 1858',\n 'New Zealand Vs England': 'T20I # 1858',\n 'Netherlands Vs Zimbabwe': 'T20I # 1859',\n 'Zimbabwe Vs Netherlands': 'T20I # 1859',\n 'Bangladesh Vs India': 'T20I # 1860',\n 'India Vs Bangladesh': 'T20I # 1860',\n 'Pakistan Vs South Africa': 'T20I # 1861',\n 'South Africa Vs Pakistan': 'T20I # 1861',\n 'Ireland Vs New Zealand': 'T20I # 1862',\n 'New Zealand Vs Ireland': 'T20I # 1862',\n 'Australia Vs Afghanistan': 'T20I # 1864',\n 'Afghanistan Vs Australia': 'T20I # 1864',\n 'England Vs Sri Lanka': 'T20I # 1867',\n 'Sri Lanka Vs England': 'T20I # 1867',\n 'Netherlands Vs South Africa': 'T20I # 1871',\n 'South Africa Vs Netherlands': 'T20I # 1871',\n 'Bangladesh Vs Pakistan': 'T20I # 1872',\n 'Pakistan Vs Bangladesh': 'T20I # 1872',\n 'India Vs Zimbabwe': 'T20I # 1873',\n 'Zimbabwe Vs India': 'T20I # 1873',\n 'New Zealand Vs Pakistan': 'T20I # 1877',\n 'Pakistan Vs New Zealand': 'T20I # 1877',\n 'England Vs India': 'T20I # 1878',\n 'India Vs England': 'T20I # 1878',\n 'England Vs Pakistan': 'T20I # 1879',\n 'Pakistan Vs England': 'T20I # 1879'}"
          },
          "metadata": {}
        }
      ],
      "execution_count": 13
    },
    {
      "cell_type": "markdown",
      "source": "**Batting Summary**",
      "metadata": {}
    },
    {
      "cell_type": "code",
      "source": "with open(\"t20_wc_batting_summary.json\") as f:\n    data = json.load(f)\nall_records=[]\nfor rec in data:\n    all_records.extend(rec[\"battingSummary\"])\ndf_batting = pd.DataFrame(all_records)\ndf_batting.head(10)",
      "metadata": {
        "trusted": true,
        "scrolled": true
      },
      "outputs": [
        {
          "execution_count": 5,
          "output_type": "execute_result",
          "data": {
            "text/plain": "                  match teamInnings  battingPos             batsmanName  \\\n0  Namibia Vs Sri Lanka     Namibia           1      Michael van Lingen   \n1  Namibia Vs Sri Lanka     Namibia           2           Divan la Cock   \n2  Namibia Vs Sri Lanka     Namibia           3  Jan Nicol Loftie-Eaton   \n3  Namibia Vs Sri Lanka     Namibia           4           Stephan Baard   \n4  Namibia Vs Sri Lanka     Namibia           5      Gerhard Erasmus(c)   \n5  Namibia Vs Sri Lanka     Namibia           6            Jan Frylinck   \n6  Namibia Vs Sri Lanka     Namibia           7             David Wiese   \n7  Namibia Vs Sri Lanka     Namibia           8                 JJ Smit   \n8  Namibia Vs Sri Lanka   Sri Lanka           1         Pathum Nissanka   \n9  Namibia Vs Sri Lanka   Sri Lanka           2           Kusal Mendis†   \n\n                         dismissal runs balls 4s 6s      SR  \n0     c Pramod Madushan b Chameera    3     6  0  0   50.00  \n1      c Shanaka b Pramod Madushan    9     9  1  0  100.00  \n2          c †Mendis b Karunaratne   20    12  1  2  166.66  \n3  c DM de Silva b Pramod Madushan   26    24  2  0  108.33  \n4     c Gunathilaka b PWH de Silva   20    24  0  0   83.33  \n5    run out (Gunathilaka/†Mendis)   44    28  4  0  157.14  \n6           c †Mendis b Theekshana    0     1  0  0    0.00  \n7                                    31    16  2  2  193.75  \n8                c Smit b Shikongo    9    10  1  0   90.00  \n9                 c †Green b Wiese    6     6  0  0  100.00  ",
            "text/html": "<div>\n<style scoped>\n    .dataframe tbody tr th:only-of-type {\n        vertical-align: middle;\n    }\n\n    .dataframe tbody tr th {\n        vertical-align: top;\n    }\n\n    .dataframe thead th {\n        text-align: right;\n    }\n</style>\n<table border=\"1\" class=\"dataframe\">\n  <thead>\n    <tr style=\"text-align: right;\">\n      <th></th>\n      <th>match</th>\n      <th>teamInnings</th>\n      <th>battingPos</th>\n      <th>batsmanName</th>\n      <th>dismissal</th>\n      <th>runs</th>\n      <th>balls</th>\n      <th>4s</th>\n      <th>6s</th>\n      <th>SR</th>\n    </tr>\n  </thead>\n  <tbody>\n    <tr>\n      <th>0</th>\n      <td>Namibia Vs Sri Lanka</td>\n      <td>Namibia</td>\n      <td>1</td>\n      <td>Michael van Lingen</td>\n      <td>c Pramod Madushan b Chameera</td>\n      <td>3</td>\n      <td>6</td>\n      <td>0</td>\n      <td>0</td>\n      <td>50.00</td>\n    </tr>\n    <tr>\n      <th>1</th>\n      <td>Namibia Vs Sri Lanka</td>\n      <td>Namibia</td>\n      <td>2</td>\n      <td>Divan la Cock</td>\n      <td>c Shanaka b Pramod Madushan</td>\n      <td>9</td>\n      <td>9</td>\n      <td>1</td>\n      <td>0</td>\n      <td>100.00</td>\n    </tr>\n    <tr>\n      <th>2</th>\n      <td>Namibia Vs Sri Lanka</td>\n      <td>Namibia</td>\n      <td>3</td>\n      <td>Jan Nicol Loftie-Eaton</td>\n      <td>c †Mendis b Karunaratne</td>\n      <td>20</td>\n      <td>12</td>\n      <td>1</td>\n      <td>2</td>\n      <td>166.66</td>\n    </tr>\n    <tr>\n      <th>3</th>\n      <td>Namibia Vs Sri Lanka</td>\n      <td>Namibia</td>\n      <td>4</td>\n      <td>Stephan Baard</td>\n      <td>c DM de Silva b Pramod Madushan</td>\n      <td>26</td>\n      <td>24</td>\n      <td>2</td>\n      <td>0</td>\n      <td>108.33</td>\n    </tr>\n    <tr>\n      <th>4</th>\n      <td>Namibia Vs Sri Lanka</td>\n      <td>Namibia</td>\n      <td>5</td>\n      <td>Gerhard Erasmus(c)</td>\n      <td>c Gunathilaka b PWH de Silva</td>\n      <td>20</td>\n      <td>24</td>\n      <td>0</td>\n      <td>0</td>\n      <td>83.33</td>\n    </tr>\n    <tr>\n      <th>5</th>\n      <td>Namibia Vs Sri Lanka</td>\n      <td>Namibia</td>\n      <td>6</td>\n      <td>Jan Frylinck</td>\n      <td>run out (Gunathilaka/†Mendis)</td>\n      <td>44</td>\n      <td>28</td>\n      <td>4</td>\n      <td>0</td>\n      <td>157.14</td>\n    </tr>\n    <tr>\n      <th>6</th>\n      <td>Namibia Vs Sri Lanka</td>\n      <td>Namibia</td>\n      <td>7</td>\n      <td>David Wiese</td>\n      <td>c †Mendis b Theekshana</td>\n      <td>0</td>\n      <td>1</td>\n      <td>0</td>\n      <td>0</td>\n      <td>0.00</td>\n    </tr>\n    <tr>\n      <th>7</th>\n      <td>Namibia Vs Sri Lanka</td>\n      <td>Namibia</td>\n      <td>8</td>\n      <td>JJ Smit</td>\n      <td></td>\n      <td>31</td>\n      <td>16</td>\n      <td>2</td>\n      <td>2</td>\n      <td>193.75</td>\n    </tr>\n    <tr>\n      <th>8</th>\n      <td>Namibia Vs Sri Lanka</td>\n      <td>Sri Lanka</td>\n      <td>1</td>\n      <td>Pathum Nissanka</td>\n      <td>c Smit b Shikongo</td>\n      <td>9</td>\n      <td>10</td>\n      <td>1</td>\n      <td>0</td>\n      <td>90.00</td>\n    </tr>\n    <tr>\n      <th>9</th>\n      <td>Namibia Vs Sri Lanka</td>\n      <td>Sri Lanka</td>\n      <td>2</td>\n      <td>Kusal Mendis†</td>\n      <td>c †Green b Wiese</td>\n      <td>6</td>\n      <td>6</td>\n      <td>0</td>\n      <td>0</td>\n      <td>100.00</td>\n    </tr>\n  </tbody>\n</table>\n</div>"
          },
          "metadata": {}
        }
      ],
      "execution_count": 5
    },
    {
      "cell_type": "code",
      "source": "df_batting[\"out/not_out\"] = df_batting.dismissal.apply(lambda x: \"out\" if len(x)>0 else \"not_out\")\ndf_batting.head(10)                                        ",
      "metadata": {
        "trusted": true,
        "scrolled": true
      },
      "outputs": [
        {
          "execution_count": 6,
          "output_type": "execute_result",
          "data": {
            "text/plain": "                  match teamInnings  battingPos             batsmanName  \\\n0  Namibia Vs Sri Lanka     Namibia           1      Michael van Lingen   \n1  Namibia Vs Sri Lanka     Namibia           2           Divan la Cock   \n2  Namibia Vs Sri Lanka     Namibia           3  Jan Nicol Loftie-Eaton   \n3  Namibia Vs Sri Lanka     Namibia           4           Stephan Baard   \n4  Namibia Vs Sri Lanka     Namibia           5      Gerhard Erasmus(c)   \n5  Namibia Vs Sri Lanka     Namibia           6            Jan Frylinck   \n6  Namibia Vs Sri Lanka     Namibia           7             David Wiese   \n7  Namibia Vs Sri Lanka     Namibia           8                 JJ Smit   \n8  Namibia Vs Sri Lanka   Sri Lanka           1         Pathum Nissanka   \n9  Namibia Vs Sri Lanka   Sri Lanka           2           Kusal Mendis†   \n\n                         dismissal runs balls 4s 6s      SR out/not_out  \n0     c Pramod Madushan b Chameera    3     6  0  0   50.00         out  \n1      c Shanaka b Pramod Madushan    9     9  1  0  100.00         out  \n2          c †Mendis b Karunaratne   20    12  1  2  166.66         out  \n3  c DM de Silva b Pramod Madushan   26    24  2  0  108.33         out  \n4     c Gunathilaka b PWH de Silva   20    24  0  0   83.33         out  \n5    run out (Gunathilaka/†Mendis)   44    28  4  0  157.14         out  \n6           c †Mendis b Theekshana    0     1  0  0    0.00         out  \n7                                    31    16  2  2  193.75     not_out  \n8                c Smit b Shikongo    9    10  1  0   90.00         out  \n9                 c †Green b Wiese    6     6  0  0  100.00         out  ",
            "text/html": "<div>\n<style scoped>\n    .dataframe tbody tr th:only-of-type {\n        vertical-align: middle;\n    }\n\n    .dataframe tbody tr th {\n        vertical-align: top;\n    }\n\n    .dataframe thead th {\n        text-align: right;\n    }\n</style>\n<table border=\"1\" class=\"dataframe\">\n  <thead>\n    <tr style=\"text-align: right;\">\n      <th></th>\n      <th>match</th>\n      <th>teamInnings</th>\n      <th>battingPos</th>\n      <th>batsmanName</th>\n      <th>dismissal</th>\n      <th>runs</th>\n      <th>balls</th>\n      <th>4s</th>\n      <th>6s</th>\n      <th>SR</th>\n      <th>out/not_out</th>\n    </tr>\n  </thead>\n  <tbody>\n    <tr>\n      <th>0</th>\n      <td>Namibia Vs Sri Lanka</td>\n      <td>Namibia</td>\n      <td>1</td>\n      <td>Michael van Lingen</td>\n      <td>c Pramod Madushan b Chameera</td>\n      <td>3</td>\n      <td>6</td>\n      <td>0</td>\n      <td>0</td>\n      <td>50.00</td>\n      <td>out</td>\n    </tr>\n    <tr>\n      <th>1</th>\n      <td>Namibia Vs Sri Lanka</td>\n      <td>Namibia</td>\n      <td>2</td>\n      <td>Divan la Cock</td>\n      <td>c Shanaka b Pramod Madushan</td>\n      <td>9</td>\n      <td>9</td>\n      <td>1</td>\n      <td>0</td>\n      <td>100.00</td>\n      <td>out</td>\n    </tr>\n    <tr>\n      <th>2</th>\n      <td>Namibia Vs Sri Lanka</td>\n      <td>Namibia</td>\n      <td>3</td>\n      <td>Jan Nicol Loftie-Eaton</td>\n      <td>c †Mendis b Karunaratne</td>\n      <td>20</td>\n      <td>12</td>\n      <td>1</td>\n      <td>2</td>\n      <td>166.66</td>\n      <td>out</td>\n    </tr>\n    <tr>\n      <th>3</th>\n      <td>Namibia Vs Sri Lanka</td>\n      <td>Namibia</td>\n      <td>4</td>\n      <td>Stephan Baard</td>\n      <td>c DM de Silva b Pramod Madushan</td>\n      <td>26</td>\n      <td>24</td>\n      <td>2</td>\n      <td>0</td>\n      <td>108.33</td>\n      <td>out</td>\n    </tr>\n    <tr>\n      <th>4</th>\n      <td>Namibia Vs Sri Lanka</td>\n      <td>Namibia</td>\n      <td>5</td>\n      <td>Gerhard Erasmus(c)</td>\n      <td>c Gunathilaka b PWH de Silva</td>\n      <td>20</td>\n      <td>24</td>\n      <td>0</td>\n      <td>0</td>\n      <td>83.33</td>\n      <td>out</td>\n    </tr>\n    <tr>\n      <th>5</th>\n      <td>Namibia Vs Sri Lanka</td>\n      <td>Namibia</td>\n      <td>6</td>\n      <td>Jan Frylinck</td>\n      <td>run out (Gunathilaka/†Mendis)</td>\n      <td>44</td>\n      <td>28</td>\n      <td>4</td>\n      <td>0</td>\n      <td>157.14</td>\n      <td>out</td>\n    </tr>\n    <tr>\n      <th>6</th>\n      <td>Namibia Vs Sri Lanka</td>\n      <td>Namibia</td>\n      <td>7</td>\n      <td>David Wiese</td>\n      <td>c †Mendis b Theekshana</td>\n      <td>0</td>\n      <td>1</td>\n      <td>0</td>\n      <td>0</td>\n      <td>0.00</td>\n      <td>out</td>\n    </tr>\n    <tr>\n      <th>7</th>\n      <td>Namibia Vs Sri Lanka</td>\n      <td>Namibia</td>\n      <td>8</td>\n      <td>JJ Smit</td>\n      <td></td>\n      <td>31</td>\n      <td>16</td>\n      <td>2</td>\n      <td>2</td>\n      <td>193.75</td>\n      <td>not_out</td>\n    </tr>\n    <tr>\n      <th>8</th>\n      <td>Namibia Vs Sri Lanka</td>\n      <td>Sri Lanka</td>\n      <td>1</td>\n      <td>Pathum Nissanka</td>\n      <td>c Smit b Shikongo</td>\n      <td>9</td>\n      <td>10</td>\n      <td>1</td>\n      <td>0</td>\n      <td>90.00</td>\n      <td>out</td>\n    </tr>\n    <tr>\n      <th>9</th>\n      <td>Namibia Vs Sri Lanka</td>\n      <td>Sri Lanka</td>\n      <td>2</td>\n      <td>Kusal Mendis†</td>\n      <td>c †Green b Wiese</td>\n      <td>6</td>\n      <td>6</td>\n      <td>0</td>\n      <td>0</td>\n      <td>100.00</td>\n      <td>out</td>\n    </tr>\n  </tbody>\n</table>\n</div>"
          },
          "metadata": {}
        }
      ],
      "execution_count": 6
    },
    {
      "cell_type": "code",
      "source": "df_batting.drop(columns = \"dismissal\",inplace = True)\ndf_batting",
      "metadata": {
        "trusted": true,
        "scrolled": true
      },
      "outputs": [
        {
          "execution_count": 7,
          "output_type": "execute_result",
          "data": {
            "text/plain": "                    match teamInnings  battingPos             batsmanName  \\\n0    Namibia Vs Sri Lanka     Namibia           1      Michael van Lingen   \n1    Namibia Vs Sri Lanka     Namibia           2           Divan la Cock   \n2    Namibia Vs Sri Lanka     Namibia           3  Jan Nicol Loftie-Eaton   \n3    Namibia Vs Sri Lanka     Namibia           4           Stephan Baard   \n4    Namibia Vs Sri Lanka     Namibia           5      Gerhard Erasmus(c)   \n..                    ...         ...         ...                     ...   \n694   Pakistan Vs England     England           3               Phil Salt   \n695   Pakistan Vs England     England           4              Ben Stokes   \n696   Pakistan Vs England     England           5             Harry Brook   \n697   Pakistan Vs England     England           6               Moeen Ali   \n698   Pakistan Vs England     England           7        Liam Livingstone   \n\n    runs balls 4s 6s      SR out/not_out  \n0      3     6  0  0   50.00         out  \n1      9     9  1  0  100.00         out  \n2     20    12  1  2  166.66         out  \n3     26    24  2  0  108.33         out  \n4     20    24  0  0   83.33         out  \n..   ...   ... .. ..     ...         ...  \n694   10     9  2  0  111.11         out  \n695   52    49  5  1  106.12     not_out  \n696   20    23  1  0   86.95         out  \n697   19    13  3  0  146.15         out  \n698    1     1  0  0  100.00     not_out  \n\n[699 rows x 10 columns]",
            "text/html": "<div>\n<style scoped>\n    .dataframe tbody tr th:only-of-type {\n        vertical-align: middle;\n    }\n\n    .dataframe tbody tr th {\n        vertical-align: top;\n    }\n\n    .dataframe thead th {\n        text-align: right;\n    }\n</style>\n<table border=\"1\" class=\"dataframe\">\n  <thead>\n    <tr style=\"text-align: right;\">\n      <th></th>\n      <th>match</th>\n      <th>teamInnings</th>\n      <th>battingPos</th>\n      <th>batsmanName</th>\n      <th>runs</th>\n      <th>balls</th>\n      <th>4s</th>\n      <th>6s</th>\n      <th>SR</th>\n      <th>out/not_out</th>\n    </tr>\n  </thead>\n  <tbody>\n    <tr>\n      <th>0</th>\n      <td>Namibia Vs Sri Lanka</td>\n      <td>Namibia</td>\n      <td>1</td>\n      <td>Michael van Lingen</td>\n      <td>3</td>\n      <td>6</td>\n      <td>0</td>\n      <td>0</td>\n      <td>50.00</td>\n      <td>out</td>\n    </tr>\n    <tr>\n      <th>1</th>\n      <td>Namibia Vs Sri Lanka</td>\n      <td>Namibia</td>\n      <td>2</td>\n      <td>Divan la Cock</td>\n      <td>9</td>\n      <td>9</td>\n      <td>1</td>\n      <td>0</td>\n      <td>100.00</td>\n      <td>out</td>\n    </tr>\n    <tr>\n      <th>2</th>\n      <td>Namibia Vs Sri Lanka</td>\n      <td>Namibia</td>\n      <td>3</td>\n      <td>Jan Nicol Loftie-Eaton</td>\n      <td>20</td>\n      <td>12</td>\n      <td>1</td>\n      <td>2</td>\n      <td>166.66</td>\n      <td>out</td>\n    </tr>\n    <tr>\n      <th>3</th>\n      <td>Namibia Vs Sri Lanka</td>\n      <td>Namibia</td>\n      <td>4</td>\n      <td>Stephan Baard</td>\n      <td>26</td>\n      <td>24</td>\n      <td>2</td>\n      <td>0</td>\n      <td>108.33</td>\n      <td>out</td>\n    </tr>\n    <tr>\n      <th>4</th>\n      <td>Namibia Vs Sri Lanka</td>\n      <td>Namibia</td>\n      <td>5</td>\n      <td>Gerhard Erasmus(c)</td>\n      <td>20</td>\n      <td>24</td>\n      <td>0</td>\n      <td>0</td>\n      <td>83.33</td>\n      <td>out</td>\n    </tr>\n    <tr>\n      <th>...</th>\n      <td>...</td>\n      <td>...</td>\n      <td>...</td>\n      <td>...</td>\n      <td>...</td>\n      <td>...</td>\n      <td>...</td>\n      <td>...</td>\n      <td>...</td>\n      <td>...</td>\n    </tr>\n    <tr>\n      <th>694</th>\n      <td>Pakistan Vs England</td>\n      <td>England</td>\n      <td>3</td>\n      <td>Phil Salt</td>\n      <td>10</td>\n      <td>9</td>\n      <td>2</td>\n      <td>0</td>\n      <td>111.11</td>\n      <td>out</td>\n    </tr>\n    <tr>\n      <th>695</th>\n      <td>Pakistan Vs England</td>\n      <td>England</td>\n      <td>4</td>\n      <td>Ben Stokes</td>\n      <td>52</td>\n      <td>49</td>\n      <td>5</td>\n      <td>1</td>\n      <td>106.12</td>\n      <td>not_out</td>\n    </tr>\n    <tr>\n      <th>696</th>\n      <td>Pakistan Vs England</td>\n      <td>England</td>\n      <td>5</td>\n      <td>Harry Brook</td>\n      <td>20</td>\n      <td>23</td>\n      <td>1</td>\n      <td>0</td>\n      <td>86.95</td>\n      <td>out</td>\n    </tr>\n    <tr>\n      <th>697</th>\n      <td>Pakistan Vs England</td>\n      <td>England</td>\n      <td>6</td>\n      <td>Moeen Ali</td>\n      <td>19</td>\n      <td>13</td>\n      <td>3</td>\n      <td>0</td>\n      <td>146.15</td>\n      <td>out</td>\n    </tr>\n    <tr>\n      <th>698</th>\n      <td>Pakistan Vs England</td>\n      <td>England</td>\n      <td>7</td>\n      <td>Liam Livingstone</td>\n      <td>1</td>\n      <td>1</td>\n      <td>0</td>\n      <td>0</td>\n      <td>100.00</td>\n      <td>not_out</td>\n    </tr>\n  </tbody>\n</table>\n<p>699 rows × 10 columns</p>\n</div>"
          },
          "metadata": {}
        }
      ],
      "execution_count": 7
    },
    {
      "cell_type": "code",
      "source": "df_batting[\"batsmanName\"]\n\n",
      "metadata": {
        "trusted": true
      },
      "outputs": [
        {
          "execution_count": 8,
          "output_type": "execute_result",
          "data": {
            "text/plain": "0          Michael van Lingen\n1               Divan la Cock\n2      Jan Nicol Loftie-Eaton\n3               Stephan Baard\n4          Gerhard Erasmus(c)\n                ...          \n694                 Phil Salt\n695                Ben Stokes\n696               Harry Brook\n697                 Moeen Ali\n698          Liam Livingstone\nName: batsmanName, Length: 699, dtype: object"
          },
          "metadata": {}
        }
      ],
      "execution_count": 8
    },
    {
      "cell_type": "code",
      "source": "df_batting[\"batsmanName\"] = df_batting[\"batsmanName\"].apply(lambda x: x.replace(\"é€\",\"\"))\ndf_batting[\"batsmanName\"] = df_batting[\"batsmanName\"].apply(lambda x: x.replace(\"\\xa0\",\"\"))\ndf_batting[\"batsmanName\"] = df_batting[\"batsmanName\"].apply(lambda x: x.replace(\"†\",\"\"))\ndf_batting",
      "metadata": {
        "trusted": true
      },
      "outputs": [
        {
          "execution_count": 9,
          "output_type": "execute_result",
          "data": {
            "text/plain": "                    match teamInnings  battingPos             batsmanName  \\\n0    Namibia Vs Sri Lanka     Namibia           1      Michael van Lingen   \n1    Namibia Vs Sri Lanka     Namibia           2           Divan la Cock   \n2    Namibia Vs Sri Lanka     Namibia           3  Jan Nicol Loftie-Eaton   \n3    Namibia Vs Sri Lanka     Namibia           4           Stephan Baard   \n4    Namibia Vs Sri Lanka     Namibia           5      Gerhard Erasmus(c)   \n..                    ...         ...         ...                     ...   \n694   Pakistan Vs England     England           3               Phil Salt   \n695   Pakistan Vs England     England           4              Ben Stokes   \n696   Pakistan Vs England     England           5             Harry Brook   \n697   Pakistan Vs England     England           6               Moeen Ali   \n698   Pakistan Vs England     England           7        Liam Livingstone   \n\n    runs balls 4s 6s      SR out/not_out  \n0      3     6  0  0   50.00         out  \n1      9     9  1  0  100.00         out  \n2     20    12  1  2  166.66         out  \n3     26    24  2  0  108.33         out  \n4     20    24  0  0   83.33         out  \n..   ...   ... .. ..     ...         ...  \n694   10     9  2  0  111.11         out  \n695   52    49  5  1  106.12     not_out  \n696   20    23  1  0   86.95         out  \n697   19    13  3  0  146.15         out  \n698    1     1  0  0  100.00     not_out  \n\n[699 rows x 10 columns]",
            "text/html": "<div>\n<style scoped>\n    .dataframe tbody tr th:only-of-type {\n        vertical-align: middle;\n    }\n\n    .dataframe tbody tr th {\n        vertical-align: top;\n    }\n\n    .dataframe thead th {\n        text-align: right;\n    }\n</style>\n<table border=\"1\" class=\"dataframe\">\n  <thead>\n    <tr style=\"text-align: right;\">\n      <th></th>\n      <th>match</th>\n      <th>teamInnings</th>\n      <th>battingPos</th>\n      <th>batsmanName</th>\n      <th>runs</th>\n      <th>balls</th>\n      <th>4s</th>\n      <th>6s</th>\n      <th>SR</th>\n      <th>out/not_out</th>\n    </tr>\n  </thead>\n  <tbody>\n    <tr>\n      <th>0</th>\n      <td>Namibia Vs Sri Lanka</td>\n      <td>Namibia</td>\n      <td>1</td>\n      <td>Michael van Lingen</td>\n      <td>3</td>\n      <td>6</td>\n      <td>0</td>\n      <td>0</td>\n      <td>50.00</td>\n      <td>out</td>\n    </tr>\n    <tr>\n      <th>1</th>\n      <td>Namibia Vs Sri Lanka</td>\n      <td>Namibia</td>\n      <td>2</td>\n      <td>Divan la Cock</td>\n      <td>9</td>\n      <td>9</td>\n      <td>1</td>\n      <td>0</td>\n      <td>100.00</td>\n      <td>out</td>\n    </tr>\n    <tr>\n      <th>2</th>\n      <td>Namibia Vs Sri Lanka</td>\n      <td>Namibia</td>\n      <td>3</td>\n      <td>Jan Nicol Loftie-Eaton</td>\n      <td>20</td>\n      <td>12</td>\n      <td>1</td>\n      <td>2</td>\n      <td>166.66</td>\n      <td>out</td>\n    </tr>\n    <tr>\n      <th>3</th>\n      <td>Namibia Vs Sri Lanka</td>\n      <td>Namibia</td>\n      <td>4</td>\n      <td>Stephan Baard</td>\n      <td>26</td>\n      <td>24</td>\n      <td>2</td>\n      <td>0</td>\n      <td>108.33</td>\n      <td>out</td>\n    </tr>\n    <tr>\n      <th>4</th>\n      <td>Namibia Vs Sri Lanka</td>\n      <td>Namibia</td>\n      <td>5</td>\n      <td>Gerhard Erasmus(c)</td>\n      <td>20</td>\n      <td>24</td>\n      <td>0</td>\n      <td>0</td>\n      <td>83.33</td>\n      <td>out</td>\n    </tr>\n    <tr>\n      <th>...</th>\n      <td>...</td>\n      <td>...</td>\n      <td>...</td>\n      <td>...</td>\n      <td>...</td>\n      <td>...</td>\n      <td>...</td>\n      <td>...</td>\n      <td>...</td>\n      <td>...</td>\n    </tr>\n    <tr>\n      <th>694</th>\n      <td>Pakistan Vs England</td>\n      <td>England</td>\n      <td>3</td>\n      <td>Phil Salt</td>\n      <td>10</td>\n      <td>9</td>\n      <td>2</td>\n      <td>0</td>\n      <td>111.11</td>\n      <td>out</td>\n    </tr>\n    <tr>\n      <th>695</th>\n      <td>Pakistan Vs England</td>\n      <td>England</td>\n      <td>4</td>\n      <td>Ben Stokes</td>\n      <td>52</td>\n      <td>49</td>\n      <td>5</td>\n      <td>1</td>\n      <td>106.12</td>\n      <td>not_out</td>\n    </tr>\n    <tr>\n      <th>696</th>\n      <td>Pakistan Vs England</td>\n      <td>England</td>\n      <td>5</td>\n      <td>Harry Brook</td>\n      <td>20</td>\n      <td>23</td>\n      <td>1</td>\n      <td>0</td>\n      <td>86.95</td>\n      <td>out</td>\n    </tr>\n    <tr>\n      <th>697</th>\n      <td>Pakistan Vs England</td>\n      <td>England</td>\n      <td>6</td>\n      <td>Moeen Ali</td>\n      <td>19</td>\n      <td>13</td>\n      <td>3</td>\n      <td>0</td>\n      <td>146.15</td>\n      <td>out</td>\n    </tr>\n    <tr>\n      <th>698</th>\n      <td>Pakistan Vs England</td>\n      <td>England</td>\n      <td>7</td>\n      <td>Liam Livingstone</td>\n      <td>1</td>\n      <td>1</td>\n      <td>0</td>\n      <td>0</td>\n      <td>100.00</td>\n      <td>not_out</td>\n    </tr>\n  </tbody>\n</table>\n<p>699 rows × 10 columns</p>\n</div>"
          },
          "metadata": {}
        }
      ],
      "execution_count": 9
    },
    {
      "cell_type": "code",
      "source": "df_batting.head(11)",
      "metadata": {
        "trusted": true
      },
      "outputs": [
        {
          "execution_count": 10,
          "output_type": "execute_result",
          "data": {
            "text/plain": "                   match teamInnings  battingPos             batsmanName runs  \\\n0   Namibia Vs Sri Lanka     Namibia           1      Michael van Lingen    3   \n1   Namibia Vs Sri Lanka     Namibia           2           Divan la Cock    9   \n2   Namibia Vs Sri Lanka     Namibia           3  Jan Nicol Loftie-Eaton   20   \n3   Namibia Vs Sri Lanka     Namibia           4           Stephan Baard   26   \n4   Namibia Vs Sri Lanka     Namibia           5      Gerhard Erasmus(c)   20   \n5   Namibia Vs Sri Lanka     Namibia           6            Jan Frylinck   44   \n6   Namibia Vs Sri Lanka     Namibia           7             David Wiese    0   \n7   Namibia Vs Sri Lanka     Namibia           8                 JJ Smit   31   \n8   Namibia Vs Sri Lanka   Sri Lanka           1         Pathum Nissanka    9   \n9   Namibia Vs Sri Lanka   Sri Lanka           2            Kusal Mendis    6   \n10  Namibia Vs Sri Lanka   Sri Lanka           3     Dhananjaya de Silva   12   \n\n   balls 4s 6s      SR out/not_out  \n0      6  0  0   50.00         out  \n1      9  1  0  100.00         out  \n2     12  1  2  166.66         out  \n3     24  2  0  108.33         out  \n4     24  0  0   83.33         out  \n5     28  4  0  157.14         out  \n6      1  0  0    0.00         out  \n7     16  2  2  193.75     not_out  \n8     10  1  0   90.00         out  \n9      6  0  0  100.00         out  \n10    11  1  0  109.09         out  ",
            "text/html": "<div>\n<style scoped>\n    .dataframe tbody tr th:only-of-type {\n        vertical-align: middle;\n    }\n\n    .dataframe tbody tr th {\n        vertical-align: top;\n    }\n\n    .dataframe thead th {\n        text-align: right;\n    }\n</style>\n<table border=\"1\" class=\"dataframe\">\n  <thead>\n    <tr style=\"text-align: right;\">\n      <th></th>\n      <th>match</th>\n      <th>teamInnings</th>\n      <th>battingPos</th>\n      <th>batsmanName</th>\n      <th>runs</th>\n      <th>balls</th>\n      <th>4s</th>\n      <th>6s</th>\n      <th>SR</th>\n      <th>out/not_out</th>\n    </tr>\n  </thead>\n  <tbody>\n    <tr>\n      <th>0</th>\n      <td>Namibia Vs Sri Lanka</td>\n      <td>Namibia</td>\n      <td>1</td>\n      <td>Michael van Lingen</td>\n      <td>3</td>\n      <td>6</td>\n      <td>0</td>\n      <td>0</td>\n      <td>50.00</td>\n      <td>out</td>\n    </tr>\n    <tr>\n      <th>1</th>\n      <td>Namibia Vs Sri Lanka</td>\n      <td>Namibia</td>\n      <td>2</td>\n      <td>Divan la Cock</td>\n      <td>9</td>\n      <td>9</td>\n      <td>1</td>\n      <td>0</td>\n      <td>100.00</td>\n      <td>out</td>\n    </tr>\n    <tr>\n      <th>2</th>\n      <td>Namibia Vs Sri Lanka</td>\n      <td>Namibia</td>\n      <td>3</td>\n      <td>Jan Nicol Loftie-Eaton</td>\n      <td>20</td>\n      <td>12</td>\n      <td>1</td>\n      <td>2</td>\n      <td>166.66</td>\n      <td>out</td>\n    </tr>\n    <tr>\n      <th>3</th>\n      <td>Namibia Vs Sri Lanka</td>\n      <td>Namibia</td>\n      <td>4</td>\n      <td>Stephan Baard</td>\n      <td>26</td>\n      <td>24</td>\n      <td>2</td>\n      <td>0</td>\n      <td>108.33</td>\n      <td>out</td>\n    </tr>\n    <tr>\n      <th>4</th>\n      <td>Namibia Vs Sri Lanka</td>\n      <td>Namibia</td>\n      <td>5</td>\n      <td>Gerhard Erasmus(c)</td>\n      <td>20</td>\n      <td>24</td>\n      <td>0</td>\n      <td>0</td>\n      <td>83.33</td>\n      <td>out</td>\n    </tr>\n    <tr>\n      <th>5</th>\n      <td>Namibia Vs Sri Lanka</td>\n      <td>Namibia</td>\n      <td>6</td>\n      <td>Jan Frylinck</td>\n      <td>44</td>\n      <td>28</td>\n      <td>4</td>\n      <td>0</td>\n      <td>157.14</td>\n      <td>out</td>\n    </tr>\n    <tr>\n      <th>6</th>\n      <td>Namibia Vs Sri Lanka</td>\n      <td>Namibia</td>\n      <td>7</td>\n      <td>David Wiese</td>\n      <td>0</td>\n      <td>1</td>\n      <td>0</td>\n      <td>0</td>\n      <td>0.00</td>\n      <td>out</td>\n    </tr>\n    <tr>\n      <th>7</th>\n      <td>Namibia Vs Sri Lanka</td>\n      <td>Namibia</td>\n      <td>8</td>\n      <td>JJ Smit</td>\n      <td>31</td>\n      <td>16</td>\n      <td>2</td>\n      <td>2</td>\n      <td>193.75</td>\n      <td>not_out</td>\n    </tr>\n    <tr>\n      <th>8</th>\n      <td>Namibia Vs Sri Lanka</td>\n      <td>Sri Lanka</td>\n      <td>1</td>\n      <td>Pathum Nissanka</td>\n      <td>9</td>\n      <td>10</td>\n      <td>1</td>\n      <td>0</td>\n      <td>90.00</td>\n      <td>out</td>\n    </tr>\n    <tr>\n      <th>9</th>\n      <td>Namibia Vs Sri Lanka</td>\n      <td>Sri Lanka</td>\n      <td>2</td>\n      <td>Kusal Mendis</td>\n      <td>6</td>\n      <td>6</td>\n      <td>0</td>\n      <td>0</td>\n      <td>100.00</td>\n      <td>out</td>\n    </tr>\n    <tr>\n      <th>10</th>\n      <td>Namibia Vs Sri Lanka</td>\n      <td>Sri Lanka</td>\n      <td>3</td>\n      <td>Dhananjaya de Silva</td>\n      <td>12</td>\n      <td>11</td>\n      <td>1</td>\n      <td>0</td>\n      <td>109.09</td>\n      <td>out</td>\n    </tr>\n  </tbody>\n</table>\n</div>"
          },
          "metadata": {}
        }
      ],
      "execution_count": 10
    },
    {
      "cell_type": "code",
      "source": "df_batting[\"match_id\"] = df_batting[\"match\"].map(match_ids_dict)\ndf_batting.head()",
      "metadata": {
        "trusted": true
      },
      "outputs": [
        {
          "execution_count": 14,
          "output_type": "execute_result",
          "data": {
            "text/plain": "                  match teamInnings  battingPos             batsmanName runs  \\\n0  Namibia Vs Sri Lanka     Namibia           1      Michael van Lingen    3   \n1  Namibia Vs Sri Lanka     Namibia           2           Divan la Cock    9   \n2  Namibia Vs Sri Lanka     Namibia           3  Jan Nicol Loftie-Eaton   20   \n3  Namibia Vs Sri Lanka     Namibia           4           Stephan Baard   26   \n4  Namibia Vs Sri Lanka     Namibia           5      Gerhard Erasmus(c)   20   \n\n  balls 4s 6s      SR out/not_out     match_id  \n0     6  0  0   50.00         out  T20I # 1823  \n1     9  1  0  100.00         out  T20I # 1823  \n2    12  1  2  166.66         out  T20I # 1823  \n3    24  2  0  108.33         out  T20I # 1823  \n4    24  0  0   83.33         out  T20I # 1823  ",
            "text/html": "<div>\n<style scoped>\n    .dataframe tbody tr th:only-of-type {\n        vertical-align: middle;\n    }\n\n    .dataframe tbody tr th {\n        vertical-align: top;\n    }\n\n    .dataframe thead th {\n        text-align: right;\n    }\n</style>\n<table border=\"1\" class=\"dataframe\">\n  <thead>\n    <tr style=\"text-align: right;\">\n      <th></th>\n      <th>match</th>\n      <th>teamInnings</th>\n      <th>battingPos</th>\n      <th>batsmanName</th>\n      <th>runs</th>\n      <th>balls</th>\n      <th>4s</th>\n      <th>6s</th>\n      <th>SR</th>\n      <th>out/not_out</th>\n      <th>match_id</th>\n    </tr>\n  </thead>\n  <tbody>\n    <tr>\n      <th>0</th>\n      <td>Namibia Vs Sri Lanka</td>\n      <td>Namibia</td>\n      <td>1</td>\n      <td>Michael van Lingen</td>\n      <td>3</td>\n      <td>6</td>\n      <td>0</td>\n      <td>0</td>\n      <td>50.00</td>\n      <td>out</td>\n      <td>T20I # 1823</td>\n    </tr>\n    <tr>\n      <th>1</th>\n      <td>Namibia Vs Sri Lanka</td>\n      <td>Namibia</td>\n      <td>2</td>\n      <td>Divan la Cock</td>\n      <td>9</td>\n      <td>9</td>\n      <td>1</td>\n      <td>0</td>\n      <td>100.00</td>\n      <td>out</td>\n      <td>T20I # 1823</td>\n    </tr>\n    <tr>\n      <th>2</th>\n      <td>Namibia Vs Sri Lanka</td>\n      <td>Namibia</td>\n      <td>3</td>\n      <td>Jan Nicol Loftie-Eaton</td>\n      <td>20</td>\n      <td>12</td>\n      <td>1</td>\n      <td>2</td>\n      <td>166.66</td>\n      <td>out</td>\n      <td>T20I # 1823</td>\n    </tr>\n    <tr>\n      <th>3</th>\n      <td>Namibia Vs Sri Lanka</td>\n      <td>Namibia</td>\n      <td>4</td>\n      <td>Stephan Baard</td>\n      <td>26</td>\n      <td>24</td>\n      <td>2</td>\n      <td>0</td>\n      <td>108.33</td>\n      <td>out</td>\n      <td>T20I # 1823</td>\n    </tr>\n    <tr>\n      <th>4</th>\n      <td>Namibia Vs Sri Lanka</td>\n      <td>Namibia</td>\n      <td>5</td>\n      <td>Gerhard Erasmus(c)</td>\n      <td>20</td>\n      <td>24</td>\n      <td>0</td>\n      <td>0</td>\n      <td>83.33</td>\n      <td>out</td>\n      <td>T20I # 1823</td>\n    </tr>\n  </tbody>\n</table>\n</div>"
          },
          "metadata": {}
        }
      ],
      "execution_count": 14
    },
    {
      "cell_type": "code",
      "source": "df_batting.to_csv(\"matchbatt.csv\",index = False)",
      "metadata": {
        "trusted": true
      },
      "outputs": [],
      "execution_count": 15
    },
    {
      "cell_type": "markdown",
      "source": "**boww**",
      "metadata": {}
    },
    {
      "cell_type": "code",
      "source": "with open('t20_wc_bowling_summary.json') as f:\n    data = json.load(f)\n    all_records = []\n    for rec in data:\n        all_records.extend(rec['bowlingSummary'])\nall_records[:2]",
      "metadata": {
        "trusted": true
      },
      "outputs": [
        {
          "execution_count": 16,
          "output_type": "execute_result",
          "data": {
            "text/plain": "[{'match': 'Namibia Vs Sri Lanka',\n  'bowlingTeam': 'Sri Lanka',\n  'bowlerName': 'Maheesh Theekshana',\n  'overs': '4',\n  'maiden': '0',\n  'runs': '23',\n  'wickets': '1',\n  'economy': '5.75',\n  '0s': '7',\n  '4s': '0',\n  '6s': '0',\n  'wides': '2',\n  'noBalls': '0'},\n {'match': 'Namibia Vs Sri Lanka',\n  'bowlingTeam': 'Sri Lanka',\n  'bowlerName': 'Dushmantha Chameera',\n  'overs': '4',\n  'maiden': '0',\n  'runs': '39',\n  'wickets': '1',\n  'economy': '9.75',\n  '0s': '6',\n  '4s': '3',\n  '6s': '1',\n  'wides': '2',\n  'noBalls': '0'}]"
          },
          "metadata": {}
        }
      ],
      "execution_count": 16
    },
    {
      "cell_type": "code",
      "source": "df_bowling = pd.DataFrame(all_records)\nprint(df_bowling.shape)\ndf_bowling.head()",
      "metadata": {
        "trusted": true
      },
      "outputs": [
        {
          "name": "stdout",
          "text": "(500, 13)\n",
          "output_type": "stream"
        },
        {
          "execution_count": 17,
          "output_type": "execute_result",
          "data": {
            "text/plain": "                  match bowlingTeam                  bowlerName overs maiden  \\\n0  Namibia Vs Sri Lanka   Sri Lanka          Maheesh Theekshana     4      0   \n1  Namibia Vs Sri Lanka   Sri Lanka         Dushmantha Chameera     4      0   \n2  Namibia Vs Sri Lanka   Sri Lanka             Pramod Madushan     4      0   \n3  Namibia Vs Sri Lanka   Sri Lanka         Chamika Karunaratne     4      0   \n4  Namibia Vs Sri Lanka   Sri Lanka  Wanindu Hasaranga de Silva     4      0   \n\n  runs wickets economy 0s 4s 6s wides noBalls  \n0   23       1    5.75  7  0  0     2       0  \n1   39       1    9.75  6  3  1     2       0  \n2   37       2    9.25  6  3  1     0       0  \n3   36       1    9.00  7  3  1     1       0  \n4   27       1    6.75  8  1  1     0       0  ",
            "text/html": "<div>\n<style scoped>\n    .dataframe tbody tr th:only-of-type {\n        vertical-align: middle;\n    }\n\n    .dataframe tbody tr th {\n        vertical-align: top;\n    }\n\n    .dataframe thead th {\n        text-align: right;\n    }\n</style>\n<table border=\"1\" class=\"dataframe\">\n  <thead>\n    <tr style=\"text-align: right;\">\n      <th></th>\n      <th>match</th>\n      <th>bowlingTeam</th>\n      <th>bowlerName</th>\n      <th>overs</th>\n      <th>maiden</th>\n      <th>runs</th>\n      <th>wickets</th>\n      <th>economy</th>\n      <th>0s</th>\n      <th>4s</th>\n      <th>6s</th>\n      <th>wides</th>\n      <th>noBalls</th>\n    </tr>\n  </thead>\n  <tbody>\n    <tr>\n      <th>0</th>\n      <td>Namibia Vs Sri Lanka</td>\n      <td>Sri Lanka</td>\n      <td>Maheesh Theekshana</td>\n      <td>4</td>\n      <td>0</td>\n      <td>23</td>\n      <td>1</td>\n      <td>5.75</td>\n      <td>7</td>\n      <td>0</td>\n      <td>0</td>\n      <td>2</td>\n      <td>0</td>\n    </tr>\n    <tr>\n      <th>1</th>\n      <td>Namibia Vs Sri Lanka</td>\n      <td>Sri Lanka</td>\n      <td>Dushmantha Chameera</td>\n      <td>4</td>\n      <td>0</td>\n      <td>39</td>\n      <td>1</td>\n      <td>9.75</td>\n      <td>6</td>\n      <td>3</td>\n      <td>1</td>\n      <td>2</td>\n      <td>0</td>\n    </tr>\n    <tr>\n      <th>2</th>\n      <td>Namibia Vs Sri Lanka</td>\n      <td>Sri Lanka</td>\n      <td>Pramod Madushan</td>\n      <td>4</td>\n      <td>0</td>\n      <td>37</td>\n      <td>2</td>\n      <td>9.25</td>\n      <td>6</td>\n      <td>3</td>\n      <td>1</td>\n      <td>0</td>\n      <td>0</td>\n    </tr>\n    <tr>\n      <th>3</th>\n      <td>Namibia Vs Sri Lanka</td>\n      <td>Sri Lanka</td>\n      <td>Chamika Karunaratne</td>\n      <td>4</td>\n      <td>0</td>\n      <td>36</td>\n      <td>1</td>\n      <td>9.00</td>\n      <td>7</td>\n      <td>3</td>\n      <td>1</td>\n      <td>1</td>\n      <td>0</td>\n    </tr>\n    <tr>\n      <th>4</th>\n      <td>Namibia Vs Sri Lanka</td>\n      <td>Sri Lanka</td>\n      <td>Wanindu Hasaranga de Silva</td>\n      <td>4</td>\n      <td>0</td>\n      <td>27</td>\n      <td>1</td>\n      <td>6.75</td>\n      <td>8</td>\n      <td>1</td>\n      <td>1</td>\n      <td>0</td>\n      <td>0</td>\n    </tr>\n  </tbody>\n</table>\n</div>"
          },
          "metadata": {}
        }
      ],
      "execution_count": 17
    },
    {
      "cell_type": "code",
      "source": "df_bowling['match_id'] = df_bowling['match'].map(match_ids_dict)\ndf_bowling.head()",
      "metadata": {
        "trusted": true
      },
      "outputs": [
        {
          "execution_count": 18,
          "output_type": "execute_result",
          "data": {
            "text/plain": "                  match bowlingTeam                  bowlerName overs maiden  \\\n0  Namibia Vs Sri Lanka   Sri Lanka          Maheesh Theekshana     4      0   \n1  Namibia Vs Sri Lanka   Sri Lanka         Dushmantha Chameera     4      0   \n2  Namibia Vs Sri Lanka   Sri Lanka             Pramod Madushan     4      0   \n3  Namibia Vs Sri Lanka   Sri Lanka         Chamika Karunaratne     4      0   \n4  Namibia Vs Sri Lanka   Sri Lanka  Wanindu Hasaranga de Silva     4      0   \n\n  runs wickets economy 0s 4s 6s wides noBalls     match_id  \n0   23       1    5.75  7  0  0     2       0  T20I # 1823  \n1   39       1    9.75  6  3  1     2       0  T20I # 1823  \n2   37       2    9.25  6  3  1     0       0  T20I # 1823  \n3   36       1    9.00  7  3  1     1       0  T20I # 1823  \n4   27       1    6.75  8  1  1     0       0  T20I # 1823  ",
            "text/html": "<div>\n<style scoped>\n    .dataframe tbody tr th:only-of-type {\n        vertical-align: middle;\n    }\n\n    .dataframe tbody tr th {\n        vertical-align: top;\n    }\n\n    .dataframe thead th {\n        text-align: right;\n    }\n</style>\n<table border=\"1\" class=\"dataframe\">\n  <thead>\n    <tr style=\"text-align: right;\">\n      <th></th>\n      <th>match</th>\n      <th>bowlingTeam</th>\n      <th>bowlerName</th>\n      <th>overs</th>\n      <th>maiden</th>\n      <th>runs</th>\n      <th>wickets</th>\n      <th>economy</th>\n      <th>0s</th>\n      <th>4s</th>\n      <th>6s</th>\n      <th>wides</th>\n      <th>noBalls</th>\n      <th>match_id</th>\n    </tr>\n  </thead>\n  <tbody>\n    <tr>\n      <th>0</th>\n      <td>Namibia Vs Sri Lanka</td>\n      <td>Sri Lanka</td>\n      <td>Maheesh Theekshana</td>\n      <td>4</td>\n      <td>0</td>\n      <td>23</td>\n      <td>1</td>\n      <td>5.75</td>\n      <td>7</td>\n      <td>0</td>\n      <td>0</td>\n      <td>2</td>\n      <td>0</td>\n      <td>T20I # 1823</td>\n    </tr>\n    <tr>\n      <th>1</th>\n      <td>Namibia Vs Sri Lanka</td>\n      <td>Sri Lanka</td>\n      <td>Dushmantha Chameera</td>\n      <td>4</td>\n      <td>0</td>\n      <td>39</td>\n      <td>1</td>\n      <td>9.75</td>\n      <td>6</td>\n      <td>3</td>\n      <td>1</td>\n      <td>2</td>\n      <td>0</td>\n      <td>T20I # 1823</td>\n    </tr>\n    <tr>\n      <th>2</th>\n      <td>Namibia Vs Sri Lanka</td>\n      <td>Sri Lanka</td>\n      <td>Pramod Madushan</td>\n      <td>4</td>\n      <td>0</td>\n      <td>37</td>\n      <td>2</td>\n      <td>9.25</td>\n      <td>6</td>\n      <td>3</td>\n      <td>1</td>\n      <td>0</td>\n      <td>0</td>\n      <td>T20I # 1823</td>\n    </tr>\n    <tr>\n      <th>3</th>\n      <td>Namibia Vs Sri Lanka</td>\n      <td>Sri Lanka</td>\n      <td>Chamika Karunaratne</td>\n      <td>4</td>\n      <td>0</td>\n      <td>36</td>\n      <td>1</td>\n      <td>9.00</td>\n      <td>7</td>\n      <td>3</td>\n      <td>1</td>\n      <td>1</td>\n      <td>0</td>\n      <td>T20I # 1823</td>\n    </tr>\n    <tr>\n      <th>4</th>\n      <td>Namibia Vs Sri Lanka</td>\n      <td>Sri Lanka</td>\n      <td>Wanindu Hasaranga de Silva</td>\n      <td>4</td>\n      <td>0</td>\n      <td>27</td>\n      <td>1</td>\n      <td>6.75</td>\n      <td>8</td>\n      <td>1</td>\n      <td>1</td>\n      <td>0</td>\n      <td>0</td>\n      <td>T20I # 1823</td>\n    </tr>\n  </tbody>\n</table>\n</div>"
          },
          "metadata": {}
        }
      ],
      "execution_count": 18
    },
    {
      "cell_type": "code",
      "source": "df_bowling.to_csv(\"matchbowlll.csv\",index = False)",
      "metadata": {
        "trusted": true
      },
      "outputs": [],
      "execution_count": 19
    },
    {
      "cell_type": "markdown",
      "source": "**Process Players info**",
      "metadata": {}
    },
    {
      "cell_type": "code",
      "source": "with open('t20_wc_player_info.json') as f:\n    data = json.load(f)",
      "metadata": {
        "trusted": true
      },
      "outputs": [],
      "execution_count": 21
    },
    {
      "cell_type": "code",
      "source": "df_players = pd.DataFrame(data)\n\nprint(df_players.shape)\ndf_players.head(10)",
      "metadata": {
        "trusted": true,
        "scrolled": true
      },
      "outputs": [
        {
          "name": "stdout",
          "text": "(219, 6)\n",
          "output_type": "stream"
        },
        {
          "execution_count": 22,
          "output_type": "execute_result",
          "data": {
            "text/plain": "                     name       team    battingStyle  \\\n0      Michael van Lingen    Namibia   Left hand Bat   \n1           Divan la Cock    Namibia  Right hand Bat   \n2  Jan Nicol Loftie-Eaton    Namibia   Left hand Bat   \n3           Stephan Baard    Namibia  Right hand Bat   \n4      Gerhard Erasmus(c)    Namibia  Right hand Bat   \n5            Jan Frylinck    Namibia   Left hand Bat   \n6             David Wiese    Namibia  Right hand Bat   \n7                 JJ Smit    Namibia  Right hand Bat   \n8         Pathum Nissanka  Sri Lanka  Right hand Bat   \n9           Kusal Mendis†  Sri Lanka  Right hand Bat   \n\n                 bowlingStyle          playingRole  \\\n0             Left arm Medium   Bowling Allrounder   \n1                    Legbreak       Opening Batter   \n2  Right arm Medium, Legbreak               Batter   \n3       Right arm Medium fast               Batter   \n4          Right arm Offbreak           Allrounder   \n5        Left arm Fast medium           Allrounder   \n6       Right arm Medium fast           Allrounder   \n7        Left arm Medium fast   Bowling Allrounder   \n8                                 Top order Batter   \n9                    Legbreak  Wicketkeeper Batter   \n\n                                         description  \n0                                                     \n1                                                     \n2                                                     \n3                                                     \n4                                                     \n5                                                     \n6  David Wiese joined a marked outflow of South A...  \n7                                                     \n8                                                     \n9  Blessed with a compact technique, an aggressiv...  ",
            "text/html": "<div>\n<style scoped>\n    .dataframe tbody tr th:only-of-type {\n        vertical-align: middle;\n    }\n\n    .dataframe tbody tr th {\n        vertical-align: top;\n    }\n\n    .dataframe thead th {\n        text-align: right;\n    }\n</style>\n<table border=\"1\" class=\"dataframe\">\n  <thead>\n    <tr style=\"text-align: right;\">\n      <th></th>\n      <th>name</th>\n      <th>team</th>\n      <th>battingStyle</th>\n      <th>bowlingStyle</th>\n      <th>playingRole</th>\n      <th>description</th>\n    </tr>\n  </thead>\n  <tbody>\n    <tr>\n      <th>0</th>\n      <td>Michael van Lingen</td>\n      <td>Namibia</td>\n      <td>Left hand Bat</td>\n      <td>Left arm Medium</td>\n      <td>Bowling Allrounder</td>\n      <td></td>\n    </tr>\n    <tr>\n      <th>1</th>\n      <td>Divan la Cock</td>\n      <td>Namibia</td>\n      <td>Right hand Bat</td>\n      <td>Legbreak</td>\n      <td>Opening Batter</td>\n      <td></td>\n    </tr>\n    <tr>\n      <th>2</th>\n      <td>Jan Nicol Loftie-Eaton</td>\n      <td>Namibia</td>\n      <td>Left hand Bat</td>\n      <td>Right arm Medium, Legbreak</td>\n      <td>Batter</td>\n      <td></td>\n    </tr>\n    <tr>\n      <th>3</th>\n      <td>Stephan Baard</td>\n      <td>Namibia</td>\n      <td>Right hand Bat</td>\n      <td>Right arm Medium fast</td>\n      <td>Batter</td>\n      <td></td>\n    </tr>\n    <tr>\n      <th>4</th>\n      <td>Gerhard Erasmus(c)</td>\n      <td>Namibia</td>\n      <td>Right hand Bat</td>\n      <td>Right arm Offbreak</td>\n      <td>Allrounder</td>\n      <td></td>\n    </tr>\n    <tr>\n      <th>5</th>\n      <td>Jan Frylinck</td>\n      <td>Namibia</td>\n      <td>Left hand Bat</td>\n      <td>Left arm Fast medium</td>\n      <td>Allrounder</td>\n      <td></td>\n    </tr>\n    <tr>\n      <th>6</th>\n      <td>David Wiese</td>\n      <td>Namibia</td>\n      <td>Right hand Bat</td>\n      <td>Right arm Medium fast</td>\n      <td>Allrounder</td>\n      <td>David Wiese joined a marked outflow of South A...</td>\n    </tr>\n    <tr>\n      <th>7</th>\n      <td>JJ Smit</td>\n      <td>Namibia</td>\n      <td>Right hand Bat</td>\n      <td>Left arm Medium fast</td>\n      <td>Bowling Allrounder</td>\n      <td></td>\n    </tr>\n    <tr>\n      <th>8</th>\n      <td>Pathum Nissanka</td>\n      <td>Sri Lanka</td>\n      <td>Right hand Bat</td>\n      <td></td>\n      <td>Top order Batter</td>\n      <td></td>\n    </tr>\n    <tr>\n      <th>9</th>\n      <td>Kusal Mendis†</td>\n      <td>Sri Lanka</td>\n      <td>Right hand Bat</td>\n      <td>Legbreak</td>\n      <td>Wicketkeeper Batter</td>\n      <td>Blessed with a compact technique, an aggressiv...</td>\n    </tr>\n  </tbody>\n</table>\n</div>"
          },
          "metadata": {}
        }
      ],
      "execution_count": 22
    },
    {
      "cell_type": "markdown",
      "source": "**cleanup weird characters**",
      "metadata": {}
    },
    {
      "cell_type": "code",
      "source": "df_players['name'] = df_players['name'].apply(lambda x: x.replace('â€', ''))\ndf_players['name'] = df_players['name'].apply(lambda x: x.replace('†', ''))\ndf_players['name'] = df_players['name'].apply(lambda x: x.replace('\\xa0', ''))\ndf_players.head(10)",
      "metadata": {
        "trusted": true
      },
      "outputs": [
        {
          "execution_count": 23,
          "output_type": "execute_result",
          "data": {
            "text/plain": "                     name       team    battingStyle  \\\n0      Michael van Lingen    Namibia   Left hand Bat   \n1           Divan la Cock    Namibia  Right hand Bat   \n2  Jan Nicol Loftie-Eaton    Namibia   Left hand Bat   \n3           Stephan Baard    Namibia  Right hand Bat   \n4      Gerhard Erasmus(c)    Namibia  Right hand Bat   \n5            Jan Frylinck    Namibia   Left hand Bat   \n6             David Wiese    Namibia  Right hand Bat   \n7                 JJ Smit    Namibia  Right hand Bat   \n8         Pathum Nissanka  Sri Lanka  Right hand Bat   \n9            Kusal Mendis  Sri Lanka  Right hand Bat   \n\n                 bowlingStyle          playingRole  \\\n0             Left arm Medium   Bowling Allrounder   \n1                    Legbreak       Opening Batter   \n2  Right arm Medium, Legbreak               Batter   \n3       Right arm Medium fast               Batter   \n4          Right arm Offbreak           Allrounder   \n5        Left arm Fast medium           Allrounder   \n6       Right arm Medium fast           Allrounder   \n7        Left arm Medium fast   Bowling Allrounder   \n8                                 Top order Batter   \n9                    Legbreak  Wicketkeeper Batter   \n\n                                         description  \n0                                                     \n1                                                     \n2                                                     \n3                                                     \n4                                                     \n5                                                     \n6  David Wiese joined a marked outflow of South A...  \n7                                                     \n8                                                     \n9  Blessed with a compact technique, an aggressiv...  ",
            "text/html": "<div>\n<style scoped>\n    .dataframe tbody tr th:only-of-type {\n        vertical-align: middle;\n    }\n\n    .dataframe tbody tr th {\n        vertical-align: top;\n    }\n\n    .dataframe thead th {\n        text-align: right;\n    }\n</style>\n<table border=\"1\" class=\"dataframe\">\n  <thead>\n    <tr style=\"text-align: right;\">\n      <th></th>\n      <th>name</th>\n      <th>team</th>\n      <th>battingStyle</th>\n      <th>bowlingStyle</th>\n      <th>playingRole</th>\n      <th>description</th>\n    </tr>\n  </thead>\n  <tbody>\n    <tr>\n      <th>0</th>\n      <td>Michael van Lingen</td>\n      <td>Namibia</td>\n      <td>Left hand Bat</td>\n      <td>Left arm Medium</td>\n      <td>Bowling Allrounder</td>\n      <td></td>\n    </tr>\n    <tr>\n      <th>1</th>\n      <td>Divan la Cock</td>\n      <td>Namibia</td>\n      <td>Right hand Bat</td>\n      <td>Legbreak</td>\n      <td>Opening Batter</td>\n      <td></td>\n    </tr>\n    <tr>\n      <th>2</th>\n      <td>Jan Nicol Loftie-Eaton</td>\n      <td>Namibia</td>\n      <td>Left hand Bat</td>\n      <td>Right arm Medium, Legbreak</td>\n      <td>Batter</td>\n      <td></td>\n    </tr>\n    <tr>\n      <th>3</th>\n      <td>Stephan Baard</td>\n      <td>Namibia</td>\n      <td>Right hand Bat</td>\n      <td>Right arm Medium fast</td>\n      <td>Batter</td>\n      <td></td>\n    </tr>\n    <tr>\n      <th>4</th>\n      <td>Gerhard Erasmus(c)</td>\n      <td>Namibia</td>\n      <td>Right hand Bat</td>\n      <td>Right arm Offbreak</td>\n      <td>Allrounder</td>\n      <td></td>\n    </tr>\n    <tr>\n      <th>5</th>\n      <td>Jan Frylinck</td>\n      <td>Namibia</td>\n      <td>Left hand Bat</td>\n      <td>Left arm Fast medium</td>\n      <td>Allrounder</td>\n      <td></td>\n    </tr>\n    <tr>\n      <th>6</th>\n      <td>David Wiese</td>\n      <td>Namibia</td>\n      <td>Right hand Bat</td>\n      <td>Right arm Medium fast</td>\n      <td>Allrounder</td>\n      <td>David Wiese joined a marked outflow of South A...</td>\n    </tr>\n    <tr>\n      <th>7</th>\n      <td>JJ Smit</td>\n      <td>Namibia</td>\n      <td>Right hand Bat</td>\n      <td>Left arm Medium fast</td>\n      <td>Bowling Allrounder</td>\n      <td></td>\n    </tr>\n    <tr>\n      <th>8</th>\n      <td>Pathum Nissanka</td>\n      <td>Sri Lanka</td>\n      <td>Right hand Bat</td>\n      <td></td>\n      <td>Top order Batter</td>\n      <td></td>\n    </tr>\n    <tr>\n      <th>9</th>\n      <td>Kusal Mendis</td>\n      <td>Sri Lanka</td>\n      <td>Right hand Bat</td>\n      <td>Legbreak</td>\n      <td>Wicketkeeper Batter</td>\n      <td>Blessed with a compact technique, an aggressiv...</td>\n    </tr>\n  </tbody>\n</table>\n</div>"
          },
          "metadata": {}
        }
      ],
      "execution_count": 23
    },
    {
      "cell_type": "code",
      "source": "df_players[df_players['team'] == 'India']",
      "metadata": {
        "trusted": true
      },
      "outputs": [
        {
          "execution_count": 24,
          "output_type": "execute_result",
          "data": {
            "text/plain": "                    name   team    battingStyle  \\\n127             KL Rahul  India  Right hand Bat   \n128      Rohit Sharma(c)  India  Right hand Bat   \n129          Virat Kohli  India  Right hand Bat   \n130     Suryakumar Yadav  India  Right hand Bat   \n131           Axar Patel  India   Left hand Bat   \n132        Hardik Pandya  India  Right hand Bat   \n133       Dinesh Karthik  India  Right hand Bat   \n134  Ravichandran Ashwin  India  Right hand Bat   \n135    Bhuvneshwar Kumar  India  Right hand Bat   \n136       Arshdeep Singh  India   Left hand Bat   \n137       Mohammed Shami  India  Right hand Bat   \n192         Deepak Hooda  India  Right hand Bat   \n211         Rishabh Pant  India   Left hand Bat   \n\n                             bowlingStyle          playingRole  \\\n127                                             Opening Batter   \n128                    Right arm Offbreak     Top order Batter   \n129                      Right arm Medium     Top order Batter   \n130  Right arm Medium, Right arm Offbreak               Batter   \n131                Slow Left arm Orthodox   Bowling Allrounder   \n132                 Right arm Medium fast           Allrounder   \n133                    Right arm Offbreak  Wicketkeeper Batter   \n134                    Right arm Offbreak   Bowling Allrounder   \n135                      Right arm Medium               Bowler   \n136                  Left arm Medium fast               Bowler   \n137                        Right arm Fast               Bowler   \n192                    Right arm Offbreak           Allrounder   \n211                                        Wicketkeeper Batter   \n\n                                           description  \n127  A tall, elegant right-hand batsman who can kee...  \n128  Languid and easy on the eye, Rohit Sharma owne...  \n129  India has given to the world many a great cric...  \n130  Hard-hitting 360-degree batter Suryakumar Yada...  \n131  Left-arm spinner Axar Patel has been increasin...  \n132  Hardik Pandya swears by living life king size ...  \n133  Not many would forget the sight of Dinesh Kart...  \n134  R Ashwin took the tricks and skills he learned...  \n135  At the time of his India debut in 2012, Bhuvne...  \n136                                                     \n137  Mohammed Shami was India's leading fast bowler...  \n192  An allrounder who can bat in any position, Dee...  \n211  A match-turning, swashbuckling batter-keeper i...  ",
            "text/html": "<div>\n<style scoped>\n    .dataframe tbody tr th:only-of-type {\n        vertical-align: middle;\n    }\n\n    .dataframe tbody tr th {\n        vertical-align: top;\n    }\n\n    .dataframe thead th {\n        text-align: right;\n    }\n</style>\n<table border=\"1\" class=\"dataframe\">\n  <thead>\n    <tr style=\"text-align: right;\">\n      <th></th>\n      <th>name</th>\n      <th>team</th>\n      <th>battingStyle</th>\n      <th>bowlingStyle</th>\n      <th>playingRole</th>\n      <th>description</th>\n    </tr>\n  </thead>\n  <tbody>\n    <tr>\n      <th>127</th>\n      <td>KL Rahul</td>\n      <td>India</td>\n      <td>Right hand Bat</td>\n      <td></td>\n      <td>Opening Batter</td>\n      <td>A tall, elegant right-hand batsman who can kee...</td>\n    </tr>\n    <tr>\n      <th>128</th>\n      <td>Rohit Sharma(c)</td>\n      <td>India</td>\n      <td>Right hand Bat</td>\n      <td>Right arm Offbreak</td>\n      <td>Top order Batter</td>\n      <td>Languid and easy on the eye, Rohit Sharma owne...</td>\n    </tr>\n    <tr>\n      <th>129</th>\n      <td>Virat Kohli</td>\n      <td>India</td>\n      <td>Right hand Bat</td>\n      <td>Right arm Medium</td>\n      <td>Top order Batter</td>\n      <td>India has given to the world many a great cric...</td>\n    </tr>\n    <tr>\n      <th>130</th>\n      <td>Suryakumar Yadav</td>\n      <td>India</td>\n      <td>Right hand Bat</td>\n      <td>Right arm Medium, Right arm Offbreak</td>\n      <td>Batter</td>\n      <td>Hard-hitting 360-degree batter Suryakumar Yada...</td>\n    </tr>\n    <tr>\n      <th>131</th>\n      <td>Axar Patel</td>\n      <td>India</td>\n      <td>Left hand Bat</td>\n      <td>Slow Left arm Orthodox</td>\n      <td>Bowling Allrounder</td>\n      <td>Left-arm spinner Axar Patel has been increasin...</td>\n    </tr>\n    <tr>\n      <th>132</th>\n      <td>Hardik Pandya</td>\n      <td>India</td>\n      <td>Right hand Bat</td>\n      <td>Right arm Medium fast</td>\n      <td>Allrounder</td>\n      <td>Hardik Pandya swears by living life king size ...</td>\n    </tr>\n    <tr>\n      <th>133</th>\n      <td>Dinesh Karthik</td>\n      <td>India</td>\n      <td>Right hand Bat</td>\n      <td>Right arm Offbreak</td>\n      <td>Wicketkeeper Batter</td>\n      <td>Not many would forget the sight of Dinesh Kart...</td>\n    </tr>\n    <tr>\n      <th>134</th>\n      <td>Ravichandran Ashwin</td>\n      <td>India</td>\n      <td>Right hand Bat</td>\n      <td>Right arm Offbreak</td>\n      <td>Bowling Allrounder</td>\n      <td>R Ashwin took the tricks and skills he learned...</td>\n    </tr>\n    <tr>\n      <th>135</th>\n      <td>Bhuvneshwar Kumar</td>\n      <td>India</td>\n      <td>Right hand Bat</td>\n      <td>Right arm Medium</td>\n      <td>Bowler</td>\n      <td>At the time of his India debut in 2012, Bhuvne...</td>\n    </tr>\n    <tr>\n      <th>136</th>\n      <td>Arshdeep Singh</td>\n      <td>India</td>\n      <td>Left hand Bat</td>\n      <td>Left arm Medium fast</td>\n      <td>Bowler</td>\n      <td></td>\n    </tr>\n    <tr>\n      <th>137</th>\n      <td>Mohammed Shami</td>\n      <td>India</td>\n      <td>Right hand Bat</td>\n      <td>Right arm Fast</td>\n      <td>Bowler</td>\n      <td>Mohammed Shami was India's leading fast bowler...</td>\n    </tr>\n    <tr>\n      <th>192</th>\n      <td>Deepak Hooda</td>\n      <td>India</td>\n      <td>Right hand Bat</td>\n      <td>Right arm Offbreak</td>\n      <td>Allrounder</td>\n      <td>An allrounder who can bat in any position, Dee...</td>\n    </tr>\n    <tr>\n      <th>211</th>\n      <td>Rishabh Pant</td>\n      <td>India</td>\n      <td>Left hand Bat</td>\n      <td></td>\n      <td>Wicketkeeper Batter</td>\n      <td>A match-turning, swashbuckling batter-keeper i...</td>\n    </tr>\n  </tbody>\n</table>\n</div>"
          },
          "metadata": {}
        }
      ],
      "execution_count": 24
    },
    {
      "cell_type": "code",
      "source": "df_players.to_csv('matchplayerinfoo.csv', index = False)",
      "metadata": {
        "trusted": true
      },
      "outputs": [],
      "execution_count": 25
    }
  ]
}
